{
 "cells": [
  {
   "cell_type": "markdown",
   "metadata": {},
   "source": [
    "## SQL Database Assignment"
   ]
  },
  {
   "cell_type": "markdown",
   "metadata": {},
   "source": [
    "This Task involves creating and applying queries on an EMPLOYEE database with two tables: `EmployeeInfo` and `EmployeePosition`."
   ]
  },
  {
   "cell_type": "markdown",
   "metadata": {},
   "source": [
    "### DataBase Structure"
   ]
  },
  {
   "cell_type": "markdown",
   "metadata": {},
   "source": [
    "### Tables:\n",
    "1. **EmployeeInfo**\n",
    "   - EmpID (Primary Key)\n",
    "   - EmpFname\n",
    "   - EmpLname\n",
    "   - Department\n",
    "   - Project\n",
    "   - Address\n",
    "   - DOB\n",
    "   - Gender\n",
    "\n",
    "2. **EmployeePosition**\n",
    "   - EmpID (Foreign Key ref to EmployeeInfo(EmpID))\n",
    "   - EmpPosition\n",
    "   - DateOfJoining\n",
    "   - Salary"
   ]
  },
  {
   "cell_type": "markdown",
   "metadata": {},
   "source": [
    "## Setting up Database with Tables & dummy data"
   ]
  },
  {
   "cell_type": "markdown",
   "metadata": {},
   "source": [
    "1. **Create DataBase**\n",
    "```sql \n",
    "    CREATE DATABASE EMPLOYEE; \n",
    "```"
   ]
  },
  {
   "cell_type": "markdown",
   "metadata": {},
   "source": [
    "2. **Create Table**\n",
    "```sql\n",
    "CREATE TABLE EmployeeInfo(\n",
    "\tEmpID SERIAL PRIMARY KEY,\n",
    "\tEmpFname VARCHAR(10) NOT NULL,\n",
    "\tEmpLname VARCHAR(10) NOT NULL,\n",
    "\tDepartment VARCHAR(10) NOT NULL,\n",
    "\tProject VARCHAR(5) NOT NULL,\n",
    "\tAddress VARCHAR(30),\n",
    "\tDOB DATE DEFAULT CURRENT_TIMESTAMP,\n",
    "\tGender CHAR(1)\n",
    ");\n",
    "\n",
    "CREATE TABLE EmployeePosition(\n",
    "\tEmpID INT PRIMARY KEY,\n",
    "\tEmpPosition VARCHAR(10) NOT NULL,\n",
    "\tDateOfJoining DATE DEFAULT CURRENT_TIMESTAMP,\n",
    "\tSalary INT NOT NULL,\n",
    "\tFOREIGN KEY (EmpID) REFERENCES EmployeeInfo(EmpID)\n",
    ");\n",
    "```"
   ]
  },
  {
   "cell_type": "markdown",
   "metadata": {},
   "source": [
    "3. **Insert Data**\n",
    "```sql\n",
    "INSERT INTO \n",
    "\tEmployeeInfo (EmpFname, EmpLname, Department, Project, Address, DOB, Gender)\n",
    "VALUES\n",
    "\t('Sanjay','Mehra','HR','P1','Hyderabad(HYD)','01/12/1976','M'),\n",
    "\t('Ananya','Mishra','Admin','P2','Delhi(DEL)','02/05/1968','F'),\n",
    "\t('Rohan','Diwan','Account','P3','Mumbai(BOM)','01/01/1980','M'),\n",
    "\t('Sonia','Kulkarni','HR','P1','Hyderabad(HYD)','02/05/1992','F'),\n",
    "\t('Ankit','Kapoor','Admin','P2','Delhi(DEL)','03/07/1994','M');\n",
    "\n",
    "INSERT INTO\n",
    "\tEmployeePosition (EmpID, EmpPosition, DateOfJoining, Salary)\n",
    "VALUES\n",
    "\t(1, 'Manager', '01/05/2022', 500000),\n",
    "\t(2, 'Executive', '02/05/2022', 75000),\n",
    "\t(3, 'Manager', '01/05/2022', 90000),\n",
    "\t(4, 'Lead', '02/05/2022', 85000),\n",
    "\t(5, 'Executive', '01/05/2022', 300000);\n",
    "```"
   ]
  },
  {
   "cell_type": "markdown",
   "metadata": {},
   "source": [
    "## SQL Queries"
   ]
  },
  {
   "cell_type": "markdown",
   "metadata": {},
   "source": [
    "**Q-1 Write a query to fetch the number of employees working in the department ‘Admin’.**"
   ]
  },
  {
   "cell_type": "markdown",
   "metadata": {},
   "source": [
    "Query:\n",
    "```sql\n",
    "SELECT COUNT(EmpID) AS \"Admin-Count\"\n",
    "FROM EmployeeInfo\n",
    "WHERE Department = 'Admin';\n",
    "```\n",
    "Result:\n",
    "\n",
    "![Image](https://github.com/user-attachments/assets/b3dc0095-02fb-4445-8ecf-92fa711a5048)"
   ]
  },
  {
   "cell_type": "markdown",
   "metadata": {},
   "source": [
    "**Q-2 Write a query to retrieve the first four characters of  EmpLname from the EmployeeInfo table.**"
   ]
  },
  {
   "cell_type": "markdown",
   "metadata": {},
   "source": [
    "Query:\n",
    "```sql\n",
    "SELECT SUBSTR(EmpLname,1,4) AS \"First-4-empL\"\n",
    "FROM EmployeeInfo;\n",
    "```\n",
    "Result:\n",
    "\n",
    "![Image](https://github.com/user-attachments/assets/5b3c2e66-a22e-4add-b996-4bc6567fd8c5)"
   ]
  },
  {
   "cell_type": "markdown",
   "metadata": {},
   "source": [
    "**Q-3 Write a query to find all the employees whose salary is between 50000 to 100000.**"
   ]
  },
  {
   "cell_type": "markdown",
   "metadata": {},
   "source": [
    "Query:\n",
    "```sql\n",
    "SELECT EmployeeInfo.EmpFname\n",
    "FROM EmployeeInfo JOIN EmployeePosition \n",
    "ON EmployeeInfo.EmpID = EmployeePosition.EmpID\n",
    "WHERE EmployeePosition.Salary BETWEEN 50000 AND 100000;\n",
    "```\n",
    "Result:\n",
    "\n",
    "![Image](https://github.com/user-attachments/assets/876ebd45-c7f8-480c-924f-3334b00bb8af)"
   ]
  },
  {
   "cell_type": "markdown",
   "metadata": {},
   "source": [
    "**Q-4 Write a query to find the names of employees that begin with ‘S’.**"
   ]
  },
  {
   "cell_type": "markdown",
   "metadata": {},
   "source": [
    "Query:\n",
    "```sql\n",
    "SELECT EmpFname\n",
    "FROM EmployeeInfo\n",
    "WHERE EmpFname LIKE ('S%');\n",
    "```\n",
    "Result:\n",
    "\n",
    "![Image](https://github.com/user-attachments/assets/af8d5088-e221-49fb-b511-ec743ea13d35)"
   ]
  },
  {
   "cell_type": "markdown",
   "metadata": {},
   "source": [
    "**Q-5 Write a query to fetch top N records order by salary. (ex. top 5 records)**"
   ]
  },
  {
   "cell_type": "markdown",
   "metadata": {},
   "source": [
    "Query:\n",
    "```sql\n",
    "SELECT *\n",
    "FROM EmployeeInfo JOIN EmployeePosition \n",
    "ON EmployeeInfo.EmpID = EmployeePosition.EmpID\n",
    "ORDER BY SALARY DESC\n",
    "LIMIT 2;\n",
    "```\n",
    "Result:\n",
    "\n",
    "![Image](https://github.com/user-attachments/assets/c54be1a6-10c6-4eaa-86d2-0ed815d2c2aa)\n"
   ]
  },
  {
   "cell_type": "markdown",
   "metadata": {},
   "source": [
    "**Q-6 Write a query to fetch details of all employees excluding the employees with first names, “Sanjay” and “Sonia” from the EmployeeInfo table.**"
   ]
  },
  {
   "cell_type": "markdown",
   "metadata": {},
   "source": [
    "Query:\n",
    "```sql\n",
    "SELECT *\n",
    "FROM EmployeeInfo\n",
    "WHERE EmpFname NOT IN ('Sanjay', 'Sonia');\n",
    "```\n",
    "Result:\n",
    "\n",
    "![Image](https://github.com/user-attachments/assets/4f2b6b79-b730-4f80-898a-11eb19ea7bb4)\n"
   ]
  },
  {
   "cell_type": "markdown",
   "metadata": {},
   "source": [
    "**Q-7 Write a query to fetch the department-wise count of employees sorted by department’s count in ascending order.**"
   ]
  },
  {
   "cell_type": "markdown",
   "metadata": {},
   "source": [
    "Query:\n",
    "```sql\n",
    "SELECT Department, COUNT(EmpFname) AS \"Count\"\n",
    "FROM EmployeeInfo\n",
    "GROUP BY Department\n",
    "ORDER BY COUNT(EmpFname) DESC;\n",
    "```\n",
    "Result:\n",
    "\n",
    "![Image](https://github.com/user-attachments/assets/ff3fee0d-e328-4b6a-8b13-a3ea4dfa82d9)"
   ]
  },
  {
   "cell_type": "markdown",
   "metadata": {},
   "source": [
    "**Q-8 Create indexing for any particular field and show the difference in data fetching before and after indexing.**"
   ]
  },
  {
   "cell_type": "markdown",
   "metadata": {},
   "source": [
    "Query:\n",
    "```sql\n",
    "CREATE INDEX idx_EmpLname ON EmployeeInfo(EmpLname);\n",
    "```\n",
    "Improvement:\n",
    "\n",
    "![Image](https://github.com/user-attachments/assets/d6a6a50e-93a6-4efa-9fa5-b263318672d3)\n",
    "\n",
    "![Image](https://github.com/user-attachments/assets/b4191db7-e2f6-4c14-99d0-838162638559)\n"
   ]
  }
 ],
 "metadata": {
  "language_info": {
   "name": "python"
  }
 },
 "nbformat": 4,
 "nbformat_minor": 2
}
